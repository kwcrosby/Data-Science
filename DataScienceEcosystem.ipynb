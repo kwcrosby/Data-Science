{
 "cells": [
  {
   "cell_type": "markdown",
   "id": "809660e4-ef8f-4ed7-92ef-b8b50a1d0bba",
   "metadata": {},
   "source": [
    "# Data Sciece Tools and Ecosystem"
   ]
  },
  {
   "cell_type": "markdown",
   "id": "9dff2a06-a5d9-4560-8062-4175b61cb8f9",
   "metadata": {},
   "source": [
    "## In this notebook, Data Science Tools and Ecosystem are summarized"
   ]
  },
  {
   "cell_type": "markdown",
   "id": "ba87a7b4-89f5-4621-9c88-7ce4f924c203",
   "metadata": {},
   "source": [
    "**Objectives:**\n",
    "- List popular languages for data science\n",
    "- List open-source tools\n",
    "- Identify commonly used libraries used by data scientists"
   ]
  },
  {
   "cell_type": "markdown",
   "id": "a1d9bb11-b9b5-4851-bbbb-9397ec6d56e0",
   "metadata": {},
   "source": [
    "## Some of the popular languages that data scientists use are:\n",
    "1. Python\n",
    "2. R\n",
    "3. SQL\n",
    "4. C++"
   ]
  },
  {
   "cell_type": "markdown",
   "id": "89aec64c-ce7d-454e-b42d-f20cff19c8e4",
   "metadata": {},
   "source": [
    "## Some of the commonly used libraries used by data scientists include:\n",
    "1. ggplot\n",
    "2. matplotlib\n",
    "3. caret\n",
    "4. dplyr"
   ]
  },
  {
   "cell_type": "markdown",
   "id": "dad9e8b9-65a0-431a-bcb9-df9d8844c5de",
   "metadata": {},
   "source": [
    "| Data Science Tools |\n",
    "| ------------------ |\n",
    "| JupyterLab |\n",
    "| Git |\n",
    "| Visual Studio Code |"
   ]
  },
  {
   "cell_type": "markdown",
   "id": "e8cf0c0d-9dbb-4241-9dc0-b9180dc8b006",
   "metadata": {},
   "source": [
    "#### Below are a few examples of evaluating arithmetic expressions in Python"
   ]
  },
  {
   "cell_type": "code",
   "execution_count": 10,
   "id": "fcff1073-6fa3-458c-b7d2-92e31dbe7467",
   "metadata": {},
   "outputs": [
    {
     "data": {
      "text/plain": [
       "17"
      ]
     },
     "execution_count": 10,
     "metadata": {},
     "output_type": "execute_result"
    }
   ],
   "source": [
    "### This is a simple arithmetic expression to multiply then add integers\n",
    "(3*4)+5\n"
   ]
  },
  {
   "cell_type": "code",
   "execution_count": 12,
   "id": "61bd4579-2cd2-45d8-9d73-d63e0b43e274",
   "metadata": {},
   "outputs": [
    {
     "data": {
      "text/plain": [
       "3.3333333333333335"
      ]
     },
     "execution_count": 12,
     "metadata": {},
     "output_type": "execute_result"
    }
   ],
   "source": [
    "### This will convert 200 minutes to hours by dividing by 60\n",
    "\n",
    "200/60"
   ]
  },
  {
   "cell_type": "markdown",
   "id": "b8c24899-55a3-4e56-9077-a8adb5061d6e",
   "metadata": {},
   "source": [
    "<h2>Author</h2>\n",
    "Keith Crosby"
   ]
  },
  {
   "cell_type": "code",
   "execution_count": null,
   "id": "d2bc99f4-6e2e-4094-9e8b-0ec89f5d0ee9",
   "metadata": {},
   "outputs": [],
   "source": []
  },
  {
   "cell_type": "code",
   "execution_count": null,
   "id": "48ff2e01-a57b-40b2-ab84-fea42ad98002",
   "metadata": {},
   "outputs": [],
   "source": []
  }
 ],
 "metadata": {
  "kernelspec": {
   "display_name": "Python 3 (ipykernel)",
   "language": "python",
   "name": "python3"
  },
  "language_info": {
   "codemirror_mode": {
    "name": "ipython",
    "version": 3
   },
   "file_extension": ".py",
   "mimetype": "text/x-python",
   "name": "python",
   "nbconvert_exporter": "python",
   "pygments_lexer": "ipython3",
   "version": "3.11.7"
  }
 },
 "nbformat": 4,
 "nbformat_minor": 5
}
